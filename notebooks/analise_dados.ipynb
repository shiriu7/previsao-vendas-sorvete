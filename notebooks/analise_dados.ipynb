import pandas as pd
import matplotlib.pyplot as plt

# Carregar os dados
df = pd.read_csv('../inputs/dados_temperatura.csv')

# Visualizar a relação entre temperatura e vendas
plt.scatter(df['temperatura'], df['vendas'])
plt.title('Relação entre Temperatura e Vendas de Sorvete')
plt.xlabel('Temperatura (°C)')
plt.ylabel('Vendas de Sorvete')
plt.show()
